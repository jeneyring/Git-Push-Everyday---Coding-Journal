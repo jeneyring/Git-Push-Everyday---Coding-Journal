{
 "cells": [
  {
   "cell_type": "markdown",
   "id": "4f20743e",
   "metadata": {},
   "source": [
    "# August 2022: \n",
    "\n",
    "## Goals\n",
    " - [ ] Complete Codeacademy SQL 1 course\n",
    " - [ ] Finalizing my github.io portfolio\n",
    " - [ ] Establish a daily learning routine\n",
    "\n",
    "\n",
    "## Daily Log\n",
    "\n",
    "### (Template: copy and paste in new cell each day)\n",
    "\n",
    "- **Hours spent:**\n",
    "- **Topic covered:**\n",
    "- **Resources used:**\n",
    "- **Notes:** \n",
    "- **Questions/things to look up later:**\n",
    "- **Reflection:**\n",
    "  - *How did I feel about this learning session?*\n",
    "  - *What am I going to do differently next time?*\n",
    "  - *How would I rate the productivity of this session on a scale of 1 to 10, with 10 being the highest?*<br>\n",
    "\n",
    "Template from SabineEmden\n",
    "  "
   ]
  },
  {
   "cell_type": "markdown",
   "id": "39419e9e",
   "metadata": {},
   "source": [
    "___________________________________"
   ]
  },
  {
   "cell_type": "markdown",
   "id": "37278eed",
   "metadata": {},
   "source": [
    "#### August 29th, 2022\n",
    "\n",
    "- **Hours spent: 2 **\n",
    "- **Topic(s) covered: SQL (via Codeacademy) and looked up AWS certification classes**\n",
    "- **Resources used:Codeacademy/ AWS**\n",
    "- **Notes: ... ** \n",
    "- **Questions/things to look up later: AWS free classes/cert prep and APEX research **\n",
    "- **Reflection: Plan to finish coding tonight.**"
   ]
  },
  {
   "cell_type": "markdown",
   "id": "f8049974",
   "metadata": {},
   "source": [
    "#### August 28th, 2022\n",
    "\n",
    "- **Hours spent: 2 **\n",
    "- **Topic(s) covered: SQL (via Codeacademy) and looked up API info on the USDA page for project**\n",
    "- **Resources used:Codeacademy/ USDA**\n",
    "- **Notes: may need to use Beautiful Soup and Selenium ** \n",
    "- **Questions/things to look up later: more on USDA API and endpoint pumpkins. **\n",
    "- **Reflection: Not alot of time today, but happy with results. **"
   ]
  },
  {
   "cell_type": "code",
   "execution_count": null,
   "id": "798da595",
   "metadata": {},
   "outputs": [],
   "source": []
  }
 ],
 "metadata": {
  "kernelspec": {
   "display_name": "Python 3 (ipykernel)",
   "language": "python",
   "name": "python3"
  },
  "language_info": {
   "codemirror_mode": {
    "name": "ipython",
    "version": 3
   },
   "file_extension": ".py",
   "mimetype": "text/x-python",
   "name": "python",
   "nbconvert_exporter": "python",
   "pygments_lexer": "ipython3",
   "version": "3.9.7"
  }
 },
 "nbformat": 4,
 "nbformat_minor": 5
}
