{
 "cells": [
  {
   "cell_type": "markdown",
   "id": "f4a9cb97",
   "metadata": {},
   "source": [
    "# August 2022: \n",
    "\n",
    "## Goals\n",
    " - [ ] Complete Codeacademy SQL 1 course\n",
    " - [ ] Finalizing my github.io portfolio\n",
    " - [ ] Establish a daily learning routine\n",
    "\n",
    "\n",
    "## Daily Log\n",
    "\n",
    "### (Template: copy and paste in new cell each day)\n",
    "\n",
    "- **Hours spent:**\n",
    "- **Topic covered:**\n",
    "- **Resources used:**\n",
    "- **Notes:** \n",
    "- **Questions/things to look up later:**\n",
    "- **Reflection:**\n",
    "  - *How did I feel about this learning session?*\n",
    "  - *What am I going to do differently next time?*\n",
    "  - *How would I rate the productivity of this session on a scale of 1 to 10, with 10 being the highest?*<br>\n",
    "\n",
    "Template from SabineEmden\n",
    "  "
   ]
  },
  {
   "cell_type": "markdown",
   "id": "ce8b5b38",
   "metadata": {},
   "source": [
    "___________________________________"
   ]
  },
  {
   "cell_type": "markdown",
   "id": "cb1f7b6b",
   "metadata": {},
   "source": [
    "#### August 28th, 2022\n",
    "\n",
    "- **Hours spent:**\n",
    "- **Topic(s) covered:**\n",
    "- **Resources used:**\n",
    "- **Notes:** \n",
    "- **Questions/things to look up later:**\n",
    "- **Reflection:**"
   ]
  },
  {
   "cell_type": "code",
   "execution_count": null,
   "id": "94bdd8f4",
   "metadata": {},
   "outputs": [],
   "source": []
  }
 ],
 "metadata": {
  "kernelspec": {
   "display_name": "Python 3 (ipykernel)",
   "language": "python",
   "name": "python3"
  },
  "language_info": {
   "codemirror_mode": {
    "name": "ipython",
    "version": 3
   },
   "file_extension": ".py",
   "mimetype": "text/x-python",
   "name": "python",
   "nbconvert_exporter": "python",
   "pygments_lexer": "ipython3",
   "version": "3.9.7"
  }
 },
 "nbformat": 4,
 "nbformat_minor": 5
}
