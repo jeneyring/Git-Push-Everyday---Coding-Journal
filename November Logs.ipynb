{
 "cells": [
  {
   "cell_type": "markdown",
   "id": "8ae82816",
   "metadata": {},
   "source": [
    "#### November 3rd, 2022\n",
    "- **Topic learned/reviewed: K-means clustering in Excel/Creating Silouettes to determine K amount of clusters\n",
    "- **Hours spent: 2hr **\n",
    "- **Career work: initial interview with MarCore Group (Wes Funk)\n",
    "- **Applied at?: looking for roles to apply tomorrow \n",
    "    \n",
    "- **Who I am following up with: Oracle\n",
    "    \n",
    "- **Goals This Week: Get through K-means chapter in book | Study for Tableau certification **"
   ]
  },
  {
   "cell_type": "code",
   "execution_count": null,
   "id": "bce06d3d",
   "metadata": {},
   "outputs": [],
   "source": []
  }
 ],
 "metadata": {
  "kernelspec": {
   "display_name": "Python 3 (ipykernel)",
   "language": "python",
   "name": "python3"
  },
  "language_info": {
   "codemirror_mode": {
    "name": "ipython",
    "version": 3
   },
   "file_extension": ".py",
   "mimetype": "text/x-python",
   "name": "python",
   "nbconvert_exporter": "python",
   "pygments_lexer": "ipython3",
   "version": "3.9.7"
  }
 },
 "nbformat": 4,
 "nbformat_minor": 5
}
