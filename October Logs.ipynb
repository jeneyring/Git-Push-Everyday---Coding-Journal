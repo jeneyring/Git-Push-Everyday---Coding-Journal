{
 "cells": [
  {
   "cell_type": "markdown",
   "id": "29c75f18",
   "metadata": {},
   "source": [
    "#### October 4th, 2022\n",
    "\n",
    "- **Hours spent: 3 1/2 **\n",
    "- **What I learned: Began Tableau certification study exam certificate today**\n",
    "- **Applied at?: None today. Did followups with interviewees and recruiters\n",
    "- **Who I am following up with: Strider (David)✅  | bambooHR (Schafer)✅  | MarCore (Wes Funk) | Entrata (Krista & Noe) | \n",
    "- **Resources used: Tableau cert. course **\n",
    "- **Notes: Notes taken for new Tableau finds ** \n",
    "- **Reflection: Pluggin forward. Needing some project time. Will do tomorrow. **"
   ]
  },
  {
   "cell_type": "code",
   "execution_count": null,
   "id": "9e044568",
   "metadata": {},
   "outputs": [],
   "source": []
  }
 ],
 "metadata": {
  "kernelspec": {
   "display_name": "Python 3 (ipykernel)",
   "language": "python",
   "name": "python3"
  },
  "language_info": {
   "codemirror_mode": {
    "name": "ipython",
    "version": 3
   },
   "file_extension": ".py",
   "mimetype": "text/x-python",
   "name": "python",
   "nbconvert_exporter": "python",
   "pygments_lexer": "ipython3",
   "version": "3.9.7"
  }
 },
 "nbformat": 4,
 "nbformat_minor": 5
}
