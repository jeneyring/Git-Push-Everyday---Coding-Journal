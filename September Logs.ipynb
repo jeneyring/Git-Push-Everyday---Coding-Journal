{
 "cells": [
  {
   "cell_type": "markdown",
   "id": "94b191d8",
   "metadata": {},
   "source": [
    " # September 2022: \n",
    "\n",
    "## Goals\n",
    "- [ ] SQL certificate\n",
    "- [ ] Tableau certificate\n",
    "- [ ] Finalizing my github.io portfolio\n",
    "- [ ] Establish a daily learning routine"
   ]
  },
  {
   "cell_type": "markdown",
   "id": "9517adec",
   "metadata": {},
   "source": [
    "#### September 30th, 2022\n",
    "\n",
    "- **Hours spent: Networking today! **\n",
    "- **Who I am following up with: Strider (David) | bambooHR (Schafer) | MarCore (Wes Funk) | Entrata (Krista & Noe) | \n",
    "- **Resources used: Dee's Udemy course **\n",
    "- **Notes: Today learned a bit more on using parameters ** \n",
    "- **Reflection: Feeling a bit down on no jobs yet still. Had an offer but fell through.**"
   ]
  },
  {
   "cell_type": "markdown",
   "id": "e7dcbc01",
   "metadata": {},
   "source": [
    "#### September 28th, 2022\n",
    "\n",
    "- **Hours spent: 3 1/2 **\n",
    "- **Topic(s) covered: Tableau **\n",
    "- **Resources used: Dee's Udemy course **\n",
    "- **Notes: Today learned a bit more on using parameters ** \n",
    "- **Reflection: Feeling a bit down on no jobs yet still. Had an offer but fell through.**"
   ]
  },
  {
   "cell_type": "markdown",
   "id": "46d536ba",
   "metadata": {},
   "source": [
    "#### September 22nd, 2022\n",
    "\n",
    "- **Hours spent: 4 **\n",
    "- **Topic(s) covered: SamCart **\n",
    "- **Resources used: SamCart, CSS**\n",
    "- **Notes: Working for a friend to freshen up her courses that start next week for clients.** \n",
    "- **Reflection: Feeling a bit down on no jobs yet. Will keep trying. Nice to be coding/designing again.**"
   ]
  },
  {
   "cell_type": "markdown",
   "id": "068ec848",
   "metadata": {},
   "source": [
    "#### September 14th, 2022\n",
    "\n",
    "- **Hours spent: 3 **\n",
    "- **Topic(s) covered: Tableau **\n",
    "- **Resources used: Dee's Udemy Course**\n",
    "- **Notes: met with classmates and coded. Nice to chat and hangout again."
   ]
  },
  {
   "cell_type": "markdown",
   "id": "c0329b98",
   "metadata": {},
   "source": [
    "#### September 13th, 2022\n",
    "\n",
    "- **Hours spent: 3 **\n",
    "- **Topic(s) covered: Tableau **\n",
    "- **Resources used: Dee's Udemy Course**\n",
    "- **Notes: I am feeling more and more confident with dashboards following this coursework** \n",
    "- **Reflection:Had an interview today so just stuck with Tableau...felt easier than Python. :) **"
   ]
  },
  {
   "cell_type": "markdown",
   "id": "2044be1a",
   "metadata": {},
   "source": [
    "#### September 12th, 2022\n",
    "\n",
    "- **Hours spent: 2 1/2 **\n",
    "- **Topic(s) covered: SQL / 100 days of Python **\n",
    "- **Resources used:Codecademy and Udemy. Also researched how to access SQL queries from SQL Server (Microsoft)**\n",
    "- **Notes: Needed a break but am back to working** \n",
    "- **Reflection: Realizing I need to situate my days better. I expect alot from myself and want to keep working BUT also need \n",
    "    to realize the reality of schedule changes.**"
   ]
  },
  {
   "cell_type": "markdown",
   "id": "272a0a69",
   "metadata": {},
   "source": [
    "#### September 7th, 2022\n",
    "\n",
    "- **Hours spent: 2 1/2 **\n",
    "- **Topic(s) covered: cleaned up portfolio/ SQL / Pumpkin Project API wrangling.. **\n",
    "- **Resources used:...**\n",
    "- **Notes: Found a good article on using the USDA API endpoints, however I still was struggling** \n",
    "- **Reflection: I'll add more to the results and maybe change up the layouts later on **"
   ]
  },
  {
   "cell_type": "markdown",
   "id": "aabfcef1",
   "metadata": {},
   "source": [
    "#### September 5th, 2022\n",
    "\n",
    "- **Hours spent: 2 1/2 **\n",
    "- **Topic(s) covered: HTML/CSS for portfolio **\n",
    "- **Resources used:github**\n",
    "- **Notes: just need to finalize the descriptions on projects and add a few more in.** \n",
    "- **Reflection: I'll add more to the results and maybe change up the layouts later on **"
   ]
  },
  {
   "cell_type": "markdown",
   "id": "a700876d",
   "metadata": {},
   "source": [
    "#### September 3rd, 2022\n",
    "\n",
    "- **Hours spent: 1 **\n",
    "- **Topic(s) covered: SQL **\n",
    "- **Resources used:Codeacademy**\n",
    "- **Notes: ... ** \n",
    "- **Reflection:Again, just tired, but determined to have a more structured week for studies.**"
   ]
  },
  {
   "cell_type": "markdown",
   "id": "ae925243",
   "metadata": {},
   "source": [
    "#### September 2nd, 2022\n",
    "\n",
    "- **Hours spent: 1 **\n",
    "- **Topic(s) covered: SQL **\n",
    "- **Resources used:Codeacademy**\n",
    "- **Notes: ... ** \n",
    "- **Reflection:Felt really tired today and just needed a break. Also had an interview with Origina.**"
   ]
  },
  {
   "cell_type": "markdown",
   "id": "77f6b846",
   "metadata": {},
   "source": [
    "#### September 1st, 2022\n",
    "\n",
    "- **Hours spent: 3 **\n",
    "- **Topic(s) covered: Tableau, Pumpkin project, SQL **\n",
    "- **Resources used:Dee's Tableau course, USDA API documents**\n",
    "- **Notes: ... ** \n",
    "- **Questions/things to look up later: Examples of how others used the USDA API endpoints...not understanding this fully  **\n",
    "- **Reflection:I am seeing I need to understand APIs a bit better.**"
   ]
  },
  {
   "cell_type": "code",
   "execution_count": null,
   "id": "f1df628f",
   "metadata": {},
   "outputs": [],
   "source": []
  }
 ],
 "metadata": {
  "kernelspec": {
   "display_name": "Python 3 (ipykernel)",
   "language": "python",
   "name": "python3"
  },
  "language_info": {
   "codemirror_mode": {
    "name": "ipython",
    "version": 3
   },
   "file_extension": ".py",
   "mimetype": "text/x-python",
   "name": "python",
   "nbconvert_exporter": "python",
   "pygments_lexer": "ipython3",
   "version": "3.9.7"
  }
 },
 "nbformat": 4,
 "nbformat_minor": 5
}
